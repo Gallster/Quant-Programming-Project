{
 "cells": [
  {
   "cell_type": "markdown",
   "metadata": {},
   "source": [
    "# Automatisationizer for swiss farmers\n",
    "\n",
    "## Instructions\n",
    "This program lets farmers..... the idea is that every farmer has his farm divided in different fields. And the farmers must \n",
    "\n",
    "The program consists of 6 different functions, below you will find instructions for them.\n",
    "\n",
    "# 1. create_fields()\n",
    "This function creates an user-defined amount of dataframes that will hold the data that the farmer wants to store. Runt the function and there will be instructions on how to use it. The user can him- or herself name the different fields...."
   ]
  },
  {
   "cell_type": "markdown",
   "metadata": {},
   "source": [
    "\n",
    "## First step\n",
    "### Hello. Please execute the lines below to create the different fields on your farm.\n",
    "Once you have done that you can use the buttons provided below "
   ]
  },
  {
   "cell_type": "code",
   "execution_count": null,
   "metadata": {},
   "outputs": [],
   "source": [
    "#Here we enter number of fields we have\n",
    "while True:\n",
    "    try:\n",
    "        n = int(input(\"Please enter the number of different fields you have: \"))\n",
    "        break\n",
    "    except ValueError:\n",
    "         print(\"Please input an actual number\")\n",
    "\n",
    "#Here we name the fields\n",
    "a = 0\n",
    "list_farmnames = []\n",
    "while a < n:\n",
    "    a = a + 1\n",
    "    aux_field = input(\"Enter the name of the field: \")\n",
    "    list_farmnames.append(aux_field)\n",
    "\n",
    "#Now we create the empty datasets\n",
    "dates = pd.date_range(start='20190301', end='20190331', freq='D', name='Number of Days')\n",
    "column3 = []\n",
    "column2 = []\n",
    "column1 = [] \n",
    "\n",
    "\n",
    "for i in range(31):\n",
    "    column1.append(0)\n",
    "    column2.append(0)\n",
    "    column3.append(0)\n",
    "\n",
    "#Here we create the dataframes and set index and name columns etc.\n",
    "    \n",
    "for i in list_farmnames:    \n",
    "    d = {'Grazing': column1, 'Cutting': column2, \"Manure\": column3, \"Dates\": dates}\n",
    "    df = pd.DataFrame(data=d)\n",
    "    exec('{} = pd.DataFrame(data=d)'.format(i))\n",
    "\n",
    "list_farms = []\n",
    "for i in list_farmnames:\n",
    "    exec(\"list_farms.append({})\".format(i))   \n",
    "\n",
    "for x in list_farms:\n",
    "    x.set_index(['Dates'], inplace=True)"
   ]
  },
  {
   "cell_type": "markdown",
   "metadata": {},
   "source": [
    "# Front End"
   ]
  },
  {
   "cell_type": "code",
   "execution_count": null,
   "metadata": {},
   "outputs": [],
   "source": [
    "display_buttons()"
   ]
  },
  {
   "cell_type": "code",
   "execution_count": null,
   "metadata": {},
   "outputs": [],
   "source": []
  },
  {
   "cell_type": "code",
   "execution_count": null,
   "metadata": {},
   "outputs": [],
   "source": []
  },
  {
   "cell_type": "code",
   "execution_count": null,
   "metadata": {},
   "outputs": [],
   "source": []
  },
  {
   "cell_type": "code",
   "execution_count": null,
   "metadata": {},
   "outputs": [],
   "source": []
  },
  {
   "cell_type": "code",
   "execution_count": null,
   "metadata": {},
   "outputs": [],
   "source": []
  },
  {
   "cell_type": "markdown",
   "metadata": {},
   "source": [
    "# Back End"
   ]
  },
  {
   "cell_type": "code",
   "execution_count": null,
   "metadata": {},
   "outputs": [],
   "source": [
    "#Function that creates the buttons.\n",
    "def display_buttons():\n",
    "    button_input = widgets.Button(description=\"Input Data\")  #These line of codes creates the buttons\n",
    "    button_attributes = widgets.Button(description=\"Choose Attributes\")\n",
    "    button_export = widgets.Button(description=\"Export to Excel\")\n",
    "    button_graphs = widgets.Button(description=\"Print Graphs\")\n",
    "    \n",
    "    #These lines display the buttons\n",
    "    display(button_input)\n",
    "    display(button_attributes)\n",
    "    display(button_export)\n",
    "    display(button_graphs)\n",
    "\n",
    "    #These lines connects a click on the button with the execution of the function\n",
    "   # button_input.on_click(input_data)\n",
    "    button_attributes.on_click(choose_attributes)\n",
    "    button_export.on_click(export_excel)\n",
    "   # button_graphs.on_click(print_graphs)"
   ]
  },
  {
   "cell_type": "code",
   "execution_count": null,
   "metadata": {},
   "outputs": [],
   "source": [
    "#This functions export will export the fields in a combined format that can be handed it to the government officials. \n",
    "# Find the results in the folder \"Results\"\n",
    "\n",
    "ab = 1 #This might seem weird, and it is. To use the widget buttons the functions needed to have arguments for some reasons. \n",
    "#And by setting the argument to some random value it worked. \n",
    "def export_excel(ab): \n",
    "    os.chdir(\"/Users/simon/desktop/project\")\n",
    "    pieces = dict(zip(list_farmnames, list_farms))\n",
    "    result = pd.concat(pieces)\n",
    "    writer = pd.ExcelWriter('Farm_Data.xlsx', engine='xlsxwriter')\n",
    "    result.to_excel(writer, sheet_name='Sheet1')\n",
    "    writer.save() "
   ]
  },
  {
   "cell_type": "code",
   "execution_count": null,
   "metadata": {},
   "outputs": [],
   "source": [
    "#Input attributes of each field: size and type of grass. These attributes will be carried over to the Excel files.\n",
    "def choose_attributes(ab): \n",
    "    global big_list_attributes #it was easier to make it global than to use \"return\" at the end of the function\n",
    "    global list_farmnames_attributes \n",
    "    list_attributes = []\n",
    "    big_list_attributes = []\n",
    "    list_farmnames_attributes = []\n",
    "    for i in list_farmnames:\n",
    "        exec('{}_attributes = []'.format(i))\n",
    "\n",
    "#take user input for size of each field and append to attribute list\n",
    "    for i in list_farmnames:\n",
    "        sizeinput = (input(\"Please enter the size of {} in square meters: \".format(i)))\n",
    "        grassinput = (input(\"Please enter the tyep of grass in field {}. Enter either '1','2','3','4', or '5': \".format(i)))\n",
    "        exec('{}_attributes.append(sizeinput)'.format(i))\n",
    "        exec('{}_attributes.append(grassinput)'.format(i))\n",
    "        big_list_attributes.append(sizeinput)\n",
    "        big_list_attributes.append(grassinput)\n",
    "\n",
    "    for i in range(len(list_farms)):\n",
    "        for size in range(0,len(big_list_attributes),2):\n",
    "            for type in range(1,len(big_list_attributes),2):\n",
    "                aux = \"Field:\" + \" \" + list_farmnames[i] + \" \" + \"Size sqm:\" + \" \" + big_list_attributes[size] + \"Type of grass:\" + \" \" + big_list_attributes[type]\n",
    "        list_farmnames_attributes.append(aux) "
   ]
  },
  {
   "cell_type": "code",
   "execution_count": 1,
   "metadata": {},
   "outputs": [],
   "source": [
    "#Graph function here"
   ]
  },
  {
   "cell_type": "code",
   "execution_count": null,
   "metadata": {},
   "outputs": [],
   "source": [
    "# these are the libraries which has been used\n",
    "import ipywidgets as widgets\n",
    "import pandas as pd\n",
    "import matplotlib.pyplot as plt #will be used for plotting\n",
    "import os \n",
    "from IPython.display import display"
   ]
  }
 ],
 "metadata": {
  "kernelspec": {
   "display_name": "Python 3",
   "language": "python",
   "name": "python3"
  },
  "language_info": {
   "codemirror_mode": {
    "name": "ipython",
    "version": 3
   },
   "file_extension": ".py",
   "mimetype": "text/x-python",
   "name": "python",
   "nbconvert_exporter": "python",
   "pygments_lexer": "ipython3",
   "version": "3.6.5"
  }
 },
 "nbformat": 4,
 "nbformat_minor": 2
}
