{
 "cells": [
  {
   "cell_type": "markdown",
   "metadata": {},
   "source": [
    "# Digital Interface for Swiss Farmers\n",
    "\n",
    "## Instructions\n",
    "Every year, the Swiss government has farmers keep track of what happens on their fields every day. It is currently recorded on a large piece of paper that is easily lost or damaged. This program allows farmers to input this same data into a data frame and then generate some simple graphs to visualize their data. This, like the current \"paper and pen\" recording system, takes into account the number of cows on each field, the amount of manure spread on a day, and if the field was cut on that day. \n",
    "\n",
    "The program consists of several different functions. Below you will find instructions for them.\n",
    "\n",
    "### Important!\n",
    "Due to this program being created in Jupyter Notebooks, there are a couple special considerations. Please scroll to the bottom section labeled \"back end\" and run every cell before doing anything else. This will ensure all the functions are defined and the necessary packages are installed."
   ]
  },
  {
   "cell_type": "markdown",
   "metadata": {},
   "source": [
    "\n",
    "## First step: Create Your Fields\n",
    "#### Hello. Please execute the lines below to create the different fields on your farm.\n",
    "Execute this code, and follow the prompts provided to name your fields and create data tables for them. After that, you can use the functions provided."
   ]
  },
  {
   "cell_type": "code",
   "execution_count": 10,
   "metadata": {},
   "outputs": [
    {
     "name": "stdout",
     "output_type": "stream",
     "text": [
      "Please enter the number of different fields you have: 3\n",
      "Enter the name of the field: Q\n",
      "Enter the name of the field: W\n",
      "Enter the name of the field: E\n"
     ]
    }
   ],
   "source": [
    "#Here we enter number of fields we have\n",
    "while True:\n",
    "    try:\n",
    "        n = int(input(\"Please enter the number of different fields you have: \"))\n",
    "        break\n",
    "    except ValueError:\n",
    "         print(\"Please input an actual number\")\n",
    "\n",
    "#Here we name the fields\n",
    "a = 0\n",
    "list_farmnames = []\n",
    "while a < n:\n",
    "    a = a + 1\n",
    "    aux_field = input(\"Enter the name of the field: \")\n",
    "    list_farmnames.append(aux_field)\n",
    "\n",
    "#Now we create the empty datasets\n",
    "dates = pd.date_range(start='20190301', end='20190331', freq='D', name='Number of Days')\n",
    "column3 = []\n",
    "column2 = []\n",
    "column1 = [] \n",
    "\n",
    "\n",
    "for i in range(31):\n",
    "    column1.append(0)\n",
    "    column2.append(0)\n",
    "    column3.append(0)\n",
    "\n",
    "#Here we create the dataframes and set index and name columns etc.\n",
    "    \n",
    "for i in list_farmnames:    \n",
    "    d = {'Grazing': column1, 'Cutting': column2, \"Manure\": column3, \"Dates\": dates}\n",
    "    df = pd.DataFrame(data=d)\n",
    "    exec('{} = pd.DataFrame(data=d)'.format(i))\n",
    "\n",
    "list_farms = []\n",
    "for i in list_farmnames:\n",
    "    exec(\"list_farms.append({})\".format(i))   \n",
    "\n",
    "for x in list_farms:\n",
    "    x.set_index(['Dates'], inplace=True)\n",
    "    \n"
   ]
  },
  {
   "cell_type": "code",
   "execution_count": null,
   "metadata": {},
   "outputs": [],
   "source": []
  },
  {
   "cell_type": "markdown",
   "metadata": {},
   "source": [
    "# Front End\n",
    "\n",
    "You may use the cells below to interface with your data. However please ensure the \"back end\" section has been run before using these!\n",
    "\n",
    "### Input Data\n",
    "This cell will allow you to enter data into any cell in specific field's data table. Simply press the button and follow the prompts.\n",
    "\n",
    "### Choose Attributes\n",
    "It is important for the Swiss government to know about a few specific attributes for each of your fields -- specifically, how big the field is in square meters and what type of grass is planted in the field (either type 1, 2, 3, 4, or 5). Simply run the cell and follow the prompts to assign these attributes for each field.\n",
    "\n",
    "### Export to Excel\n",
    "This cell will export your dataframes for each field to Excel for your own personal use, or for sharing with the government or your friends.\n",
    "\n",
    "### Print Graphs\n",
    "This cell will print graphs of your data."
   ]
  },
  {
   "cell_type": "code",
   "execution_count": 11,
   "metadata": {},
   "outputs": [
    {
     "name": "stdout",
     "output_type": "stream",
     "text": [
      "Please enter the size of Q in square meters: 50\n",
      "Please enter the tyep of grass in field Q. Enter either '1','2','3','4', or '5': 1\n",
      "Please enter the size of W in square meters: 60\n",
      "Please enter the tyep of grass in field W. Enter either '1','2','3','4', or '5': 2\n",
      "Please enter the size of E in square meters: 70\n",
      "Please enter the tyep of grass in field E. Enter either '1','2','3','4', or '5': 3\n"
     ]
    }
   ],
   "source": [
    "choose_attributes(ab)"
   ]
  },
  {
   "cell_type": "code",
   "execution_count": 12,
   "metadata": {},
   "outputs": [
    {
     "name": "stdout",
     "output_type": "stream",
     "text": [
      "Do you wish to change a cell? Enter yes/no: yes\n",
      "What field would you like to change a cell in? Enter the name: Q\n",
      "Enter the date you wish to change in the year-month-day format (ex: 2019-03-01): 2019-03-01\n",
      "Enter the action corresponding to the cell you wish to change (ex: Grazing): Grazing\n",
      "Enter what you wish to change the contents of the cell to: 13\n"
     ]
    },
    {
     "data": {
      "text/html": [
       "<div>\n",
       "<style scoped>\n",
       "    .dataframe tbody tr th:only-of-type {\n",
       "        vertical-align: middle;\n",
       "    }\n",
       "\n",
       "    .dataframe tbody tr th {\n",
       "        vertical-align: top;\n",
       "    }\n",
       "\n",
       "    .dataframe thead th {\n",
       "        text-align: right;\n",
       "    }\n",
       "</style>\n",
       "<table border=\"1\" class=\"dataframe\">\n",
       "  <thead>\n",
       "    <tr style=\"text-align: right;\">\n",
       "      <th></th>\n",
       "      <th>Grazing</th>\n",
       "      <th>Cutting</th>\n",
       "      <th>Manure</th>\n",
       "    </tr>\n",
       "    <tr>\n",
       "      <th>Dates</th>\n",
       "      <th></th>\n",
       "      <th></th>\n",
       "      <th></th>\n",
       "    </tr>\n",
       "  </thead>\n",
       "  <tbody>\n",
       "    <tr>\n",
       "      <th>2019-03-01</th>\n",
       "      <td>13</td>\n",
       "      <td>0</td>\n",
       "      <td>0</td>\n",
       "    </tr>\n",
       "    <tr>\n",
       "      <th>2019-03-02</th>\n",
       "      <td>0</td>\n",
       "      <td>0</td>\n",
       "      <td>0</td>\n",
       "    </tr>\n",
       "    <tr>\n",
       "      <th>2019-03-03</th>\n",
       "      <td>0</td>\n",
       "      <td>0</td>\n",
       "      <td>0</td>\n",
       "    </tr>\n",
       "    <tr>\n",
       "      <th>2019-03-04</th>\n",
       "      <td>0</td>\n",
       "      <td>0</td>\n",
       "      <td>0</td>\n",
       "    </tr>\n",
       "    <tr>\n",
       "      <th>2019-03-05</th>\n",
       "      <td>0</td>\n",
       "      <td>0</td>\n",
       "      <td>0</td>\n",
       "    </tr>\n",
       "    <tr>\n",
       "      <th>2019-03-06</th>\n",
       "      <td>0</td>\n",
       "      <td>0</td>\n",
       "      <td>0</td>\n",
       "    </tr>\n",
       "    <tr>\n",
       "      <th>2019-03-07</th>\n",
       "      <td>0</td>\n",
       "      <td>0</td>\n",
       "      <td>0</td>\n",
       "    </tr>\n",
       "    <tr>\n",
       "      <th>2019-03-08</th>\n",
       "      <td>0</td>\n",
       "      <td>0</td>\n",
       "      <td>0</td>\n",
       "    </tr>\n",
       "    <tr>\n",
       "      <th>2019-03-09</th>\n",
       "      <td>0</td>\n",
       "      <td>0</td>\n",
       "      <td>0</td>\n",
       "    </tr>\n",
       "    <tr>\n",
       "      <th>2019-03-10</th>\n",
       "      <td>0</td>\n",
       "      <td>0</td>\n",
       "      <td>0</td>\n",
       "    </tr>\n",
       "    <tr>\n",
       "      <th>2019-03-11</th>\n",
       "      <td>0</td>\n",
       "      <td>0</td>\n",
       "      <td>0</td>\n",
       "    </tr>\n",
       "    <tr>\n",
       "      <th>2019-03-12</th>\n",
       "      <td>0</td>\n",
       "      <td>0</td>\n",
       "      <td>0</td>\n",
       "    </tr>\n",
       "    <tr>\n",
       "      <th>2019-03-13</th>\n",
       "      <td>0</td>\n",
       "      <td>0</td>\n",
       "      <td>0</td>\n",
       "    </tr>\n",
       "    <tr>\n",
       "      <th>2019-03-14</th>\n",
       "      <td>0</td>\n",
       "      <td>0</td>\n",
       "      <td>0</td>\n",
       "    </tr>\n",
       "    <tr>\n",
       "      <th>2019-03-15</th>\n",
       "      <td>0</td>\n",
       "      <td>0</td>\n",
       "      <td>0</td>\n",
       "    </tr>\n",
       "    <tr>\n",
       "      <th>2019-03-16</th>\n",
       "      <td>0</td>\n",
       "      <td>0</td>\n",
       "      <td>0</td>\n",
       "    </tr>\n",
       "    <tr>\n",
       "      <th>2019-03-17</th>\n",
       "      <td>0</td>\n",
       "      <td>0</td>\n",
       "      <td>0</td>\n",
       "    </tr>\n",
       "    <tr>\n",
       "      <th>2019-03-18</th>\n",
       "      <td>0</td>\n",
       "      <td>0</td>\n",
       "      <td>0</td>\n",
       "    </tr>\n",
       "    <tr>\n",
       "      <th>2019-03-19</th>\n",
       "      <td>0</td>\n",
       "      <td>0</td>\n",
       "      <td>0</td>\n",
       "    </tr>\n",
       "    <tr>\n",
       "      <th>2019-03-20</th>\n",
       "      <td>0</td>\n",
       "      <td>0</td>\n",
       "      <td>0</td>\n",
       "    </tr>\n",
       "    <tr>\n",
       "      <th>2019-03-21</th>\n",
       "      <td>0</td>\n",
       "      <td>0</td>\n",
       "      <td>0</td>\n",
       "    </tr>\n",
       "    <tr>\n",
       "      <th>2019-03-22</th>\n",
       "      <td>0</td>\n",
       "      <td>0</td>\n",
       "      <td>0</td>\n",
       "    </tr>\n",
       "    <tr>\n",
       "      <th>2019-03-23</th>\n",
       "      <td>0</td>\n",
       "      <td>0</td>\n",
       "      <td>0</td>\n",
       "    </tr>\n",
       "    <tr>\n",
       "      <th>2019-03-24</th>\n",
       "      <td>0</td>\n",
       "      <td>0</td>\n",
       "      <td>0</td>\n",
       "    </tr>\n",
       "    <tr>\n",
       "      <th>2019-03-25</th>\n",
       "      <td>0</td>\n",
       "      <td>0</td>\n",
       "      <td>0</td>\n",
       "    </tr>\n",
       "    <tr>\n",
       "      <th>2019-03-26</th>\n",
       "      <td>0</td>\n",
       "      <td>0</td>\n",
       "      <td>0</td>\n",
       "    </tr>\n",
       "    <tr>\n",
       "      <th>2019-03-27</th>\n",
       "      <td>0</td>\n",
       "      <td>0</td>\n",
       "      <td>0</td>\n",
       "    </tr>\n",
       "    <tr>\n",
       "      <th>2019-03-28</th>\n",
       "      <td>0</td>\n",
       "      <td>0</td>\n",
       "      <td>0</td>\n",
       "    </tr>\n",
       "    <tr>\n",
       "      <th>2019-03-29</th>\n",
       "      <td>0</td>\n",
       "      <td>0</td>\n",
       "      <td>0</td>\n",
       "    </tr>\n",
       "    <tr>\n",
       "      <th>2019-03-30</th>\n",
       "      <td>0</td>\n",
       "      <td>0</td>\n",
       "      <td>0</td>\n",
       "    </tr>\n",
       "    <tr>\n",
       "      <th>2019-03-31</th>\n",
       "      <td>0</td>\n",
       "      <td>0</td>\n",
       "      <td>0</td>\n",
       "    </tr>\n",
       "  </tbody>\n",
       "</table>\n",
       "</div>"
      ],
      "text/plain": [
       "            Grazing  Cutting  Manure\n",
       "Dates                               \n",
       "2019-03-01       13        0       0\n",
       "2019-03-02        0        0       0\n",
       "2019-03-03        0        0       0\n",
       "2019-03-04        0        0       0\n",
       "2019-03-05        0        0       0\n",
       "2019-03-06        0        0       0\n",
       "2019-03-07        0        0       0\n",
       "2019-03-08        0        0       0\n",
       "2019-03-09        0        0       0\n",
       "2019-03-10        0        0       0\n",
       "2019-03-11        0        0       0\n",
       "2019-03-12        0        0       0\n",
       "2019-03-13        0        0       0\n",
       "2019-03-14        0        0       0\n",
       "2019-03-15        0        0       0\n",
       "2019-03-16        0        0       0\n",
       "2019-03-17        0        0       0\n",
       "2019-03-18        0        0       0\n",
       "2019-03-19        0        0       0\n",
       "2019-03-20        0        0       0\n",
       "2019-03-21        0        0       0\n",
       "2019-03-22        0        0       0\n",
       "2019-03-23        0        0       0\n",
       "2019-03-24        0        0       0\n",
       "2019-03-25        0        0       0\n",
       "2019-03-26        0        0       0\n",
       "2019-03-27        0        0       0\n",
       "2019-03-28        0        0       0\n",
       "2019-03-29        0        0       0\n",
       "2019-03-30        0        0       0\n",
       "2019-03-31        0        0       0"
      ]
     },
     "metadata": {},
     "output_type": "display_data"
    },
    {
     "name": "stdout",
     "output_type": "stream",
     "text": [
      "Thank you for entering data\n",
      "Do you wish to change another cell? Enter yes/no: no\n",
      "You are done editing cells\n"
     ]
    }
   ],
   "source": [
    "input_data(ab)"
   ]
  },
  {
   "cell_type": "code",
   "execution_count": 16,
   "metadata": {},
   "outputs": [],
   "source": [
    "export_excel(ab)"
   ]
  },
  {
   "cell_type": "code",
   "execution_count": 13,
   "metadata": {},
   "outputs": [
    {
     "name": "stdout",
     "output_type": "stream",
     "text": [
      "Which field do you want to plotQ\n"
     ]
    },
    {
     "data": {
      "image/png": "[encoded data removed]",
      "text/plain": [
       "<Figure size 432x288 with 1 Axes>"
      ]
     },
     "metadata": {},
     "output_type": "display_data"
    }
   ],
   "source": [
    "print_grazing(ab)"
   ]
  },
  {
   "cell_type": "code",
   "execution_count": 14,
   "metadata": {},
   "outputs": [
    {
     "name": "stdout",
     "output_type": "stream",
     "text": [
      "Which field do you want to plotW\n"
     ]
    },
    {
     "data": {
      "image/png": "[encoded data removed]",
      "text/plain": [
       "<Figure size 1080x576 with 1 Axes>"
      ]
     },
     "metadata": {},
     "output_type": "display_data"
    }
   ],
   "source": [
    "print_cutting(ab)"
   ]
  },
  {
   "cell_type": "code",
   "execution_count": 15,
   "metadata": {},
   "outputs": [
    {
     "name": "stdout",
     "output_type": "stream",
     "text": [
      "Which field do you want to plotE\n"
     ]
    },
    {
     "data": {
      "image/png": "[encoded data removed]",
      "text/plain": [
       "<Figure size 1080x576 with 1 Axes>"
      ]
     },
     "metadata": {},
     "output_type": "display_data"
    }
   ],
   "source": [
    "print_manure(ab)"
   ]
  },
  {
   "cell_type": "markdown",
   "metadata": {},
   "source": [
    "# Back End\n",
    "### Please run these cells before doing anything else in this notebook"
   ]
  },
  {
   "cell_type": "code",
   "execution_count": 1,
   "metadata": {},
   "outputs": [],
   "source": [
    "# these are the libraries which has been used\n",
    "import ipywidgets as widgets\n",
    "import pandas as pd\n",
    "import matplotlib.pyplot as plt #will be used for plotting\n",
    "import os \n",
    "from IPython.display import display"
   ]
  },
  {
   "cell_type": "code",
   "execution_count": 2,
   "metadata": {},
   "outputs": [],
   "source": [
    "#Function that creates the buttons.\n",
    "def display_buttons():\n",
    "    button_input = widgets.Button(description=\"Input Data\")  #These line of codes creates the buttons\n",
    "    button_attributes = widgets.Button(description=\"Choose Attributes\")\n",
    "    button_export = widgets.Button(description=\"Export to Excel\")\n",
    "    button_graphs_grazing = widgets.Button(description=\"Graph Grazing\")\n",
    "    button_graphs_cutting = widgets.Button(description=\"Graph Cutting\")\n",
    "    button_graphs_manure = widgets.Button(description=\"Graph Manure\")\n",
    "    #These lines display the buttons\n",
    "    display(button_input)\n",
    "    display(button_attributes)\n",
    "    display(button_export)\n",
    "    display(button_graphs_grazing)\n",
    "    display(button_graphs_cutting)\n",
    "    display(button_graphs_manure)\n",
    "    #display(button_graphs)\n",
    "\n",
    "    #These lines connects a click on the button with the execution of the function\n",
    "    button_input.on_click(input_data)\n",
    "    button_attributes.on_click(choose_attributes)\n",
    "    button_export.on_click(export_excel)\n",
    "    button_graphs_grazing.on_click(print_grazing)\n",
    "    button_graphs_cutting.on_click(print_cutting)\n",
    "    button_graphs_manure.on_click(print_manure)"
   ]
  },
  {
   "cell_type": "code",
   "execution_count": 3,
   "metadata": {},
   "outputs": [],
   "source": [
    "#This functions export will export the fields in a combined format that can be handed it to the government officials. \n",
    "# Find the results in the folder \"Results\"\n",
    "\n",
    "ab = 1 #This might seem weird, and it is. To use the widget buttons the functions needed to have arguments for some reasons. \n",
    "#And by setting the argument to some random value it worked. \n",
    "def export_excel(ab): \n",
    "    pieces = dict(zip(list_farmnames_attributes, list_farms))\n",
    "    result = pd.concat(pieces)\n",
    "    writer = pd.ExcelWriter('Results/Farm_Data.xlsx', engine='xlsxwriter')\n",
    "    result.to_excel(writer, sheet_name='The Fields')\n",
    "    writer.save() "
   ]
  },
  {
   "cell_type": "code",
   "execution_count": 4,
   "metadata": {},
   "outputs": [],
   "source": [
    "#Input attributes of each field: size and type of grass. These attributes will be carried over to the Excel files.\n",
    "def choose_attributes(ab): \n",
    "    global big_list_attributes #it was easier to make it global than to use \"return\" at the end of the function\n",
    "    global list_farmnames_attributes \n",
    "    list_attributes = []\n",
    "    big_list_attributes = []\n",
    "    list_farmnames_attributes = []\n",
    "    for i in list_farmnames:\n",
    "        exec('{}_attributes = []'.format(i))\n",
    "\n",
    "#take user input for size of each field and append to attribute list\n",
    "    for i in list_farmnames:\n",
    "        sizeinput = (input(\"Please enter the size of {} in square meters: \".format(i)))\n",
    "        grassinput = (input(\"Please enter the tyep of grass in field {}. Enter either '1','2','3','4', or '5': \".format(i)))\n",
    "        exec('{}_attributes.append(sizeinput)'.format(i))\n",
    "        exec('{}_attributes.append(grassinput)'.format(i))\n",
    "        big_list_attributes.append(sizeinput)\n",
    "        big_list_attributes.append(grassinput)\n",
    "\n",
    "    for i in range(len(list_farms)):\n",
    "        for size in range(0,len(big_list_attributes),2):\n",
    "            for type in range(1,len(big_list_attributes),2):\n",
    "                aux = \"Field:\" + \" \" + list_farmnames[i] + \",\" + \" \" + \"Size sqm:\" + \" \" + big_list_attributes[size]+ \",\"+ \" \" + \"Type of grass:\" + \" \" + big_list_attributes[type] + \".\"\n",
    "        list_farmnames_attributes.append(aux) \n",
    "        \n",
    "        \n",
    "        \n",
    "        \n",
    "        "
   ]
  },
  {
   "cell_type": "code",
   "execution_count": null,
   "metadata": {},
   "outputs": [],
   "source": [
    "choose_attributes(ab)"
   ]
  },
  {
   "cell_type": "code",
   "execution_count": 17,
   "metadata": {},
   "outputs": [
    {
     "data": {
      "text/plain": [
       "['Field: Q, Size sqm: 70, Type of grass: 3.',\n",
       " 'Field: W, Size sqm: 70, Type of grass: 3.',\n",
       " 'Field: E, Size sqm: 70, Type of grass: 3.']"
      ]
     },
     "execution_count": 17,
     "metadata": {},
     "output_type": "execute_result"
    }
   ],
   "source": [
    "list_farmnames_attributes"
   ]
  },
  {
   "cell_type": "code",
   "execution_count": 19,
   "metadata": {},
   "outputs": [
    {
     "data": {
      "text/plain": [
       "'50'"
      ]
     },
     "execution_count": 19,
     "metadata": {},
     "output_type": "execute_result"
    }
   ],
   "source": [
    "big_list_attributes[0]"
   ]
  },
  {
   "cell_type": "code",
   "execution_count": null,
   "metadata": {},
   "outputs": [],
   "source": []
  },
  {
   "cell_type": "code",
   "execution_count": 5,
   "metadata": {},
   "outputs": [],
   "source": [
    "#Input data function here\n",
    "#this function recieves input from the user and does it in a loop, so they can input as much as they want at anytime.\n",
    "def input_data(ab):\n",
    "    changecellinput = input(\"Do you wish to change a cell? Enter yes/no: \")\n",
    "    while changecellinput in ['yes', 'Yes', 'YES', 'yES', 'yeS']:\n",
    "        if changecellinput in ['no', 'No', 'NO', 'nO']:\n",
    "            print (\"Thank you, no cells will be changed\")\n",
    "        else:\n",
    "            inputframe = input(\"What field would you like to change a cell in? Enter the name: \")\n",
    "            inputdate = input(\"Enter the date you wish to change in the year-month-day format (ex: 2019-03-01): \")\n",
    "            inputaction = input(\"Enter the action corresponding to the cell you wish to change (ex: Grazing): \")\n",
    "            if inputaction in [\"Grazing\", \"Manure\", \"Cutting\"]:\n",
    "                try:\n",
    "                    inputchange = int(input(\"Enter what you wish to change the contents of the cell to: \"))\n",
    "                except ValueError:\n",
    "                    print(\"Please input an actual number\") \n",
    "                exec('{}.loc[inputdate,inputaction]=inputchange'.format(inputframe))\n",
    "            else:\n",
    "                print(\"Please enter an actual action\")\n",
    "                break\n",
    "        exec(\"display({})\".format(inputframe))\n",
    "        print (\"Thank you for entering data\")\n",
    "        continueinput = input(\"Do you wish to change another cell? Enter yes/no: \")\n",
    "        if continueinput in ['no', 'No', 'NO', 'nO']:\n",
    "            print (\"You are done editing cells\")\n",
    "            return\n",
    "    else:\n",
    "        print (\"You are done editing cells\")"
   ]
  },
  {
   "cell_type": "code",
   "execution_count": 7,
   "metadata": {},
   "outputs": [],
   "source": [
    "# Graphs\n",
    "\n",
    "plt.style.use(\"ggplot\")\n",
    "\n",
    "def print_grazing(ab): \n",
    "    aux = dict(zip(list_farmnames, range(0,a)))\n",
    "    aux1 = str(input(\"Which field do you want to plot\"))\n",
    "    choice = list_farms[aux[aux1]] \n",
    "    fig = plt.figure() \n",
    "    choice[\"Grazing\"].plot(label = \"Grazing in {}\".format(choice.astype(str)), legend = False)\n",
    "    plt.ylabel('Number of Cows Grazing')\n",
    "    plt.rcParams['figure.figsize'] = [15,8] #size of the graphs\n",
    "    plt.title(\"Grazing in {}\".format(aux1)) #Main title\n",
    "\n",
    "def print_cutting(ab): \n",
    "    aux = dict(zip(list_farmnames, range(0,a)))\n",
    "    aux1 = str(input(\"Which field do you want to plot\"))\n",
    "    choice = list_farms[aux[aux1]]\n",
    "    fig = plt.figure() \n",
    "    choice[\"Cutting\"].plot(label = \"Manure in {}\".format(choice.astype(str)), legend = False)\n",
    "    plt.ylabel('Was the field cut on this day?')\n",
    "    plt.rcParams['figure.figsize'] = [15,8] #size of the graphs\n",
    "    plt.title(\"Cutting in Field {}\".format(aux1)) #Main title \n",
    "    \n",
    "    \n",
    "def print_manure(ab): \n",
    "    aux = dict(zip(list_farmnames, range(0,a)))\n",
    "    aux1 = str(input(\"Which field do you want to plot\"))\n",
    "    choice = list_farms[aux[aux1]] \n",
    "    fig = plt.figure() \n",
    "    choice[\"Manure\"].plot(label = \"Manure in {}\".format(choice.astype(str)), legend = False)\n",
    "    plt.ylabel('Kilos of Manure spread')\n",
    "    plt.rcParams['figure.figsize'] = [15,8] #size of the graphs\n",
    "    plt.title(\"Manure spread in {}\".format(aux1)) #Main title\n",
    "    \n",
    "    \n",
    "    "
   ]
  },
  {
   "cell_type": "markdown",
   "metadata": {},
   "source": [
    "# Appendix \n",
    "We wanted to use buttons to execute the functions. But, unfortunately that was not possible. When executing the buttons an output field was generetad (the buttons). The problem was that when we wanted to execute a function with a input() an EOF-error appeared. It was not possible to have both the widget buttons and an field for inputs at the same time. Thus, the only function working with the buttons is the export to excel function. \n",
    "\n",
    "Below you can see the idea we first had. "
   ]
  },
  {
   "cell_type": "code",
   "execution_count": 9,
   "metadata": {
    "scrolled": true
   },
   "outputs": [
    {
     "data": {
      "application/vnd.jupyter.widget-view+json": {
       "model_id": "ecddea86773347c397ef3a687da4e87a",
       "version_major": 2,
       "version_minor": 0
      },
      "text/plain": [
       "Button(description='Input Data', style=ButtonStyle())"
      ]
     },
     "metadata": {},
     "output_type": "display_data"
    },
    {
     "data": {
      "application/vnd.jupyter.widget-view+json": {
       "model_id": "60a9344d52fe4d858003db249b7fc7ef",
       "version_major": 2,
       "version_minor": 0
      },
      "text/plain": [
       "Button(description='Choose Attributes', style=ButtonStyle())"
      ]
     },
     "metadata": {},
     "output_type": "display_data"
    },
    {
     "data": {
      "application/vnd.jupyter.widget-view+json": {
       "model_id": "c135ba2045a24f21b5c6de1790290121",
       "version_major": 2,
       "version_minor": 0
      },
      "text/plain": [
       "Button(description='Export to Excel', style=ButtonStyle())"
      ]
     },
     "metadata": {},
     "output_type": "display_data"
    },
    {
     "data": {
      "application/vnd.jupyter.widget-view+json": {
       "model_id": "ad89995d27fa4945afb838c3c222c6e2",
       "version_major": 2,
       "version_minor": 0
      },
      "text/plain": [
       "Button(description='Graph Grazing', style=ButtonStyle())"
      ]
     },
     "metadata": {},
     "output_type": "display_data"
    },
    {
     "data": {
      "application/vnd.jupyter.widget-view+json": {
       "model_id": "44c244b24788485da001ad437a0e85a6",
       "version_major": 2,
       "version_minor": 0
      },
      "text/plain": [
       "Button(description='Graph Cutting', style=ButtonStyle())"
      ]
     },
     "metadata": {},
     "output_type": "display_data"
    },
    {
     "data": {
      "application/vnd.jupyter.widget-view+json": {
       "model_id": "75b96d50fe7643b3ade537761143acc6",
       "version_major": 2,
       "version_minor": 0
      },
      "text/plain": [
       "Button(description='Graph Manure', style=ButtonStyle())"
      ]
     },
     "metadata": {},
     "output_type": "display_data"
    }
   ],
   "source": [
    "display_buttons()"
   ]
  },
  {
   "cell_type": "code",
   "execution_count": 8,
   "metadata": {},
   "outputs": [],
   "source": [
    "#Function that creates the buttons.\n",
    "def display_buttons():\n",
    "    button_input = widgets.Button(description=\"Input Data\")  #These line of codes creates the buttons\n",
    "    button_attributes = widgets.Button(description=\"Choose Attributes\")\n",
    "    button_export = widgets.Button(description=\"Export to Excel\")\n",
    "    button_graphs_grazing = widgets.Button(description=\"Graph Grazing\")\n",
    "    button_graphs_cutting = widgets.Button(description=\"Graph Cutting\")\n",
    "    button_graphs_manure = widgets.Button(description=\"Graph Manure\")\n",
    "    #These lines display the buttons\n",
    "    display(button_input)\n",
    "    display(button_attributes)\n",
    "    display(button_export)\n",
    "    display(button_graphs_grazing)\n",
    "    display(button_graphs_cutting)\n",
    "    display(button_graphs_manure)\n",
    "    #display(button_graphs)\n",
    "\n",
    "    #These lines connects a click on the button with the execution of the function\n",
    "    button_input.on_click(input_data)\n",
    "    button_attributes.on_click(choose_attributes)\n",
    "    button_export.on_click(export_excel)\n",
    "    button_graphs_grazing.on_click(print_grazing)\n",
    "    button_graphs_cutting.on_click(print_cutting)\n",
    "    button_graphs_manure.on_click(print_manure)"
   ]
  },
  {
   "cell_type": "code",
   "execution_count": null,
   "metadata": {},
   "outputs": [],
   "source": [
    "\n"
   ]
  },
  {
   "cell_type": "code",
   "execution_count": null,
   "metadata": {},
   "outputs": [],
   "source": []
  },
  {
   "cell_type": "code",
   "execution_count": null,
   "metadata": {},
   "outputs": [],
   "source": []
  },
  {
   "cell_type": "code",
   "execution_count": null,
   "metadata": {},
   "outputs": [],
   "source": []
  },
  {
   "cell_type": "code",
   "execution_count": null,
   "metadata": {},
   "outputs": [],
   "source": []
  },
  {
   "cell_type": "code",
   "execution_count": null,
   "metadata": {},
   "outputs": [],
   "source": []
  },
  {
   "cell_type": "code",
   "execution_count": null,
   "metadata": {},
   "outputs": [],
   "source": []
  },
  {
   "cell_type": "code",
   "execution_count": null,
   "metadata": {},
   "outputs": [],
   "source": []
  }
 ],
 "metadata": {
  "kernelspec": {
   "display_name": "Python 3",
   "language": "python",
   "name": "python3"
  },
  "language_info": {
   "codemirror_mode": {
    "name": "ipython",
    "version": 3
   },
   "file_extension": ".py",
   "mimetype": "text/x-python",
   "name": "python",
   "nbconvert_exporter": "python",
   "pygments_lexer": "ipython3",
   "version": "3.6.5"
  }
 },
 "nbformat": 4,
 "nbformat_minor": 2
}
