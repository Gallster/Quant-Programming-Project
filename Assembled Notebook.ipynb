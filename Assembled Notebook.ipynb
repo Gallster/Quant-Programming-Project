{
 "cells": [
  {
   "cell_type": "markdown",
   "metadata": {},
   "source": [
    "## Hey sam!!\n",
    "I managed to create the function I was working on and I incorporated it with you code for inputing attributes. \n",
    "The export_excel function will now not only define which data belongs to which farm, but also print the attributes. \n",
    "\n",
    "##### On a serious note below\n",
    "\n",
    "# Automatisationizer for swiss farmers\n",
    "\n",
    "## Instructions\n",
    "This program lets farmers..... the idea is that every farmer has his farm divided in different fields. And the farmers must \n",
    "\n",
    "The program consists of 6 different functions, below you will find instructions for them.\n",
    "\n",
    "# 1. create_fields()\n",
    "This function creates an user-defined amount of dataframes that will hold the data that the farmer wants to store. Runt the function and there will be instructions on how to use it. The user can him- or herself name the different fields...."
   ]
  },
  {
   "cell_type": "code",
   "execution_count": null,
   "metadata": {},
   "outputs": [],
   "source": [
    "import ipywidgets as widgets\n",
    "import pandas as pd\n",
    "import matplotlib.pyplot as plt #will be used for plotting\n",
    "import os"
   ]
  },
  {
   "cell_type": "code",
   "execution_count": null,
   "metadata": {},
   "outputs": [],
   "source": [
    "\n",
    "create_fields() #Run this cell when you want to create you new fields. "
   ]
  },
  {
   "cell_type": "code",
   "execution_count": null,
   "metadata": {},
   "outputs": [],
   "source": [
    "def create_fields(): #NOT WORKING YET\n",
    "    while True:\n",
    "        try:\n",
    "            n = int(input(\"Please enter the number of different fields you have: \"))\n",
    "            break\n",
    "        except ValueError:\n",
    "             print(\"Please input an actual number\")\n",
    "    \n",
    "    #Here we name the fields\n",
    "    a = 0\n",
    "    list_farmnames = []\n",
    "    while a < n:\n",
    "        a = a + 1\n",
    "        aux_field = input(\"Enter the name of the field: \")\n",
    "        list_farmnames.append(aux_field)\n",
    "       \n",
    "\n",
    "    #Now we create the empty datasets \n",
    "\n",
    "    dates = pd.date_range(start='20190301', end='20190331', freq='D', name='Number of Days')\n",
    "    column3 = []\n",
    "    column2 = []\n",
    "    column1 = [] \n",
    "\n",
    "\n",
    "    for i in range(31):\n",
    "        column1.append(0)\n",
    "        column2.append(0)\n",
    "        column3.append(0)\n",
    "\n",
    "    #Here we create the dataframes and set index and name columns etc.\n",
    "    \n",
    "    for i in list_farmnames:    \n",
    "        d = {'Grazing': column1, 'Cutting': column2, \"Manure\": column3, \"Dates\": dates}\n",
    "        df = pd.DataFrame(data=d)\n",
    "        exec('{} = pd.DataFrame(data=d)'.format(i))\n",
    "\n",
    "    list_farms = []\n",
    "    for i in list_farmnames:\n",
    "        exec(\"list_farms.append({})\".format(i))   \n",
    "\n",
    "    for x in list_farms:\n",
    "        x.set_index(['Dates'], inplace=True)"
   ]
  },
  {
   "cell_type": "code",
   "execution_count": null,
   "metadata": {},
   "outputs": [],
   "source": [
    "choose_attributes()"
   ]
  },
  {
   "cell_type": "code",
   "execution_count": null,
   "metadata": {},
   "outputs": [],
   "source": [
    "def choose_attributes(): \n",
    "    global big_list_attributes \n",
    "    global list_farmnames_attributes #make these global so that they are accessible outside of the function \n",
    "    big_list_attributes = []\n",
    "    list_farmnames_attributes = []\n",
    "    for i in list_farmnames:\n",
    "        exec('{}_attributes = []'.format(i))\n",
    "\n",
    "#take user input for size of each field and append to attribute list\n",
    "    for i in list_farmnames:\n",
    "        sizeinput = (input(\"Please enter the size of {} in square meters: \".format(i)))\n",
    "        grassinput = (input(\"Please enter the tyep of grass in field {}. Enter either '1','2','3','4', or '5': \".format(i)))\n",
    "        exec('{}_attributes.append(sizeinput)'.format(i))\n",
    "        exec('{}_attributes.append(grassinput)'.format(i))\n",
    "        big_list_attributes.append(sizeinput) #this will be used in the below for-loop to create a list which will be used for the excel-exporter.\n",
    "        big_list_attributes.append(grassinput)\n",
    "\n",
    "    for i in range(len(list_farms)):\n",
    "        for size in range(0,len(big_list_attributes),2):\n",
    "            for type in range(1,len(big_list_attributes),2):\n",
    "                aux = \"Field:\" + \" \" + list_farmnames[i] + \" \" + \"Size sqm:\" + \" \" + big_list_attributes[size] + \"Type of grass:\" + \" \" + big_list_attributes[type]\n",
    "        list_farmnames_attributes.append(aux)  #This can now be used to describe every field when they are combined in the excel-exporter."
   ]
  },
  {
   "cell_type": "code",
   "execution_count": null,
   "metadata": {},
   "outputs": [],
   "source": [
    "changecell()"
   ]
  },
  {
   "cell_type": "code",
   "execution_count": null,
   "metadata": {},
   "outputs": [],
   "source": [
    "#SAM, define your code as a function. It will be much more user firendly\n",
    "def input_data():\n",
    "    changecellinput = input(\"Do you wish to change a cell? Enter yes/no: \")\n",
    "    while changecellinput in ['yes', 'Yes', 'YES', 'yES', 'yeS']:\n",
    "        if changecellinput in ['no', 'No', 'NO', 'nO']:\n",
    "            print (\"Thank you, no cells will be changed\")\n",
    "        else:\n",
    "            inputframe = input(\"What field would you like to change a cell in? Enter the name: \")\n",
    "            inputdate = input(\"Enter the date you wish to change in the year-month-day format (ex: 2019-03-01): \")\n",
    "            inputaction = input(\"Enter the action corresponding to the cell you wish to change (ex: Grazing): \")\n",
    "            inputchange = input(\"Enter what you wish to change the contents of the cell to: \")\n",
    "            exec('{}.loc[inputdate,inputaction]=inputchange'.format(inputframe))\n",
    "        exec(\"display({})\".format(inputframe))\n",
    "        print (\"Thank you for entering data\")\n",
    "        continueinput = input(\"Do you wish to change another cell? Enter yes/no: \")\n",
    "        if continueinput in ['no', 'No', 'NO', 'nO']:\n",
    "            print (\"You are done editing cells\")\n",
    "            return\n",
    "    else:\n",
    "        print (\"You are done editing cells\")"
   ]
  },
  {
   "cell_type": "code",
   "execution_count": null,
   "metadata": {},
   "outputs": [],
   "source": []
  },
  {
   "cell_type": "code",
   "execution_count": null,
   "metadata": {},
   "outputs": [],
   "source": [
    "#This could be neat\n",
    "export_excel() #export the data gathered to excel"
   ]
  },
  {
   "cell_type": "code",
   "execution_count": null,
   "metadata": {},
   "outputs": [],
   "source": [
    "def export_excel(): \n",
    "    os.chdir(\"/Users/simon/desktop/project\")\n",
    "    pieces = dict(zip(list_farmnames_attributes, list_farms))\n",
    "    result = pd.concat(pieces)\n",
    "    writer = pd.ExcelWriter('Farm_Data.xlsx', engine='xlsxwriter')\n",
    "    result.to_excel(writer, sheet_name='Sheet1')\n",
    "    writer.save() #it will be saved to current working direcotry."
   ]
  },
  {
   "cell_type": "code",
   "execution_count": null,
   "metadata": {},
   "outputs": [],
   "source": [
    "print_graphs() #create a graphical overview of the farm "
   ]
  },
  {
   "cell_type": "code",
   "execution_count": null,
   "metadata": {},
   "outputs": [],
   "source": [
    "plt.style.use(\"ggplot\")\n",
    "\n",
    "def print_graphs(choice): \n",
    "    choice = choice.astype(float) #WE did not have numbers that was plot:able, so make them to floats\n",
    "    fig = plt.figure() \n",
    "    choice[\"Grazing\"].plot(label = \"Grazing in {}\".format(choice), legend = True)\n",
    "    plt.ylabel(choice) \n",
    "    plt.rcParams['figure.figsize'] = [15,8] #size of the graphs\n",
    "    plt.legend(loc=1, prop={'size': 15}) #size of legend\n",
    "    plt.title(\"Daily {}\".format(choice)) #Main title \n",
    "    \n",
    "    for i in (\"Grazing\", \"Cutting\", \"Manure\")\n",
    "    \n",
    "#fig.savefig(\"Project Results/\" + Value + \".png\") #Saving the plots to Project Results"
   ]
  },
  {
   "cell_type": "code",
   "execution_count": null,
   "metadata": {},
   "outputs": [],
   "source": []
  },
  {
   "cell_type": "code",
   "execution_count": null,
   "metadata": {},
   "outputs": [],
   "source": [
    "#Input attributes of each field: size and type of grass\n",
    "\n",
    "#create attribute list for each field\n",
    "for i in list_farmnames:\n",
    "    exec('{}_attributes = []'.format(i))\n",
    "\n",
    "#take user input for size of each field and append to attribute list\n",
    "for i in list_farmnames:\n",
    "    sizeinput = input(\"Please enter the size of {} in square meters: \".format(i))\n",
    "    grassinput = input(\"Please enter the tyep of grass in field {}. Enter either '1','2','3','4', or '5': \".format(i))\n",
    "    exec('{}_attributes.append(sizeinput)'.format(i))\n",
    "    exec('{}_attributes.append(grassinput)'.format(i))"
   ]
  },
  {
   "cell_type": "code",
   "execution_count": null,
   "metadata": {
    "scrolled": false
   },
   "outputs": [],
   "source": [
    "#Takes user input to edit a specific cell\n",
    "changecellinput = input(\"Do you wish to change a cell? Enter yes/no: \")\n",
    "while changecellinput in ['yes', 'Yes', 'YES', 'yES', 'yeS']:\n",
    "    if changecellinput in ['no', 'No', 'NO', 'nO']:\n",
    "        print (\"Thank you, no cells will be changed\")\n",
    "    else:\n",
    "        inputframe = input(\"What field would you like to change a cell in? Enter the name: \")\n",
    "        inputdate = input(\"Enter the date you wish to change in the year-month-day format (ex: 2019-03-01): \")\n",
    "        inputaction = input(\"Enter the action corresponding to the cell you wish to change (ex: Grazing): \")\n",
    "        inputchange = input(\"Enter what you wish to change the contents of the cell to: \")\n",
    "        exec('{}.loc[inputdate,inputaction]=inputchange'.format(inputframe))\n",
    "    exec(\"display({})\".format(inputframe))\n",
    "else:\n",
    "    print (\"You are done editing cells\")"
   ]
  },
  {
   "cell_type": "code",
   "execution_count": null,
   "metadata": {},
   "outputs": [],
   "source": []
  },
  {
   "cell_type": "code",
   "execution_count": null,
   "metadata": {},
   "outputs": [],
   "source": []
  }
 ],
 "metadata": {
  "kernelspec": {
   "display_name": "Python 3",
   "language": "python",
   "name": "python3"
  },
  "language_info": {
   "codemirror_mode": {
    "name": "ipython",
    "version": 3
   },
   "file_extension": ".py",
   "mimetype": "text/x-python",
   "name": "python",
   "nbconvert_exporter": "python",
   "pygments_lexer": "ipython3",
   "version": "3.6.5"
  }
 },
 "nbformat": 4,
 "nbformat_minor": 2
}
