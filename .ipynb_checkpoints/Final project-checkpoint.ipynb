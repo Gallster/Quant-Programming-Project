{
 "cells": [
  {
   "cell_type": "markdown",
   "metadata": {},
   "source": [
    "# Digital Interface for Swiss Farmers\n",
    "\n",
    "## Instructions\n",
    "Every year, the Swiss government has farmers keep track of what happens on their fields every day. It is currently recorded on a large piece of paper that is easily lost or damaged. This program allows farmers to input this same data into a data frame and then generate some simple graphs to visualize their data. This, like the current \"paper and pen\" recording system, takes into account the number of cows on each field, the amount of manure spread on a day, and if the field was cut on that day. \n",
    "\n",
    "The program consists of several different functions. Below you will find instructions for them.\n",
    "\n",
    "### Important!\n",
    "Due to this program being created in Jupyter Notebooks, there are a couple special considerations. Please scroll to the bottom section labeled \"back end\" and run every cell before doing anything else. This will ensure all the functions are defined and the necessary packages are installed."
   ]
  },
  {
   "cell_type": "markdown",
   "metadata": {},
   "source": [
    "\n",
    "## First step: Create Your Fields\n",
    "#### Hello. Please execute the lines below to create the different fields on your farm.\n",
    "Execute this code, and follow the prompts provided to name your fields and create data tables for them. After that, you can use the functions provided."
   ]
  },
  {
   "cell_type": "code",
   "execution_count": null,
   "metadata": {},
   "outputs": [],
   "source": [
    "#Here we enter number of fields we have\n",
    "while True:\n",
    "    try:\n",
    "        n = int(input(\"Please enter the number of different fields you have: \"))\n",
    "        break\n",
    "    except ValueError:\n",
    "         print(\"Please input an actual number\")\n",
    "\n",
    "#Here we name the fields\n",
    "a = 0\n",
    "list_farmnames = []\n",
    "while a < n:\n",
    "    a = a + 1\n",
    "    aux_field = input(\"Enter the name of the field: \")\n",
    "    list_farmnames.append(aux_field)\n",
    "\n",
    "#Now we create the empty datasets\n",
    "dates = pd.date_range(start='20190301', end='20190331', freq='D', name='Number of Days')\n",
    "column3 = []\n",
    "column2 = []\n",
    "column1 = [] \n",
    "\n",
    "\n",
    "for i in range(31):\n",
    "    column1.append(0)\n",
    "    column2.append(0)\n",
    "    column3.append(0)\n",
    "\n",
    "#Here we create the dataframes and set index and name columns etc.\n",
    "    \n",
    "for i in list_farmnames:    \n",
    "    d = {'Grazing': column1, 'Cutting': column2, \"Manure\": column3, \"Dates\": dates}\n",
    "    df = pd.DataFrame(data=d)\n",
    "    exec('{} = pd.DataFrame(data=d)'.format(i))\n",
    "\n",
    "list_farms = []\n",
    "for i in list_farmnames:\n",
    "    exec(\"list_farms.append({})\".format(i))   \n",
    "\n",
    "for x in list_farms:\n",
    "    x.set_index(['Dates'], inplace=True)\n",
    "    \n"
   ]
  },
  {
   "cell_type": "code",
   "execution_count": null,
   "metadata": {},
   "outputs": [],
   "source": []
  },
  {
   "cell_type": "markdown",
   "metadata": {},
   "source": [
    "# Front End\n",
    "\n",
    "You may use the cells below to interface with your data. However please ensure the \"back end\" section has been run before using these!\n",
    "\n",
    "### Input Data\n",
    "This cell will allow you to enter data into any cell in specific field's data table. Simply press the button and follow the prompts.\n",
    "\n",
    "### Choose Attributes\n",
    "It is important for the Swiss government to know about a few specific attributes for each of your fields -- specifically, how big the field is in square meters and what type of grass is planted in the field (either type 1, 2, 3, 4, or 5). Simply run the cell and follow the prompts to assign these attributes for each field.\n",
    "\n",
    "### Export to Excel\n",
    "This cell will export your dataframes for each field to Excel for your own personal use, or for sharing with the government or your friends.\n",
    "\n",
    "### Print Graphs\n",
    "This cell will print graphs of your data."
   ]
  },
  {
   "cell_type": "code",
   "execution_count": null,
   "metadata": {},
   "outputs": [],
   "source": [
    "display_buttons()"
   ]
  },
  {
   "cell_type": "code",
   "execution_count": null,
   "metadata": {},
   "outputs": [],
   "source": []
  },
  {
   "cell_type": "code",
   "execution_count": null,
   "metadata": {},
   "outputs": [],
   "source": []
  },
  {
   "cell_type": "code",
   "execution_count": null,
   "metadata": {},
   "outputs": [],
   "source": []
  },
  {
   "cell_type": "code",
   "execution_count": null,
   "metadata": {},
   "outputs": [],
   "source": []
  },
  {
   "cell_type": "code",
   "execution_count": null,
   "metadata": {},
   "outputs": [],
   "source": []
  },
  {
   "cell_type": "markdown",
   "metadata": {},
   "source": [
    "# Back End\n",
    "### Please run these cells before doing anything else in this notebook"
   ]
  },
  {
   "cell_type": "code",
   "execution_count": null,
   "metadata": {},
   "outputs": [],
   "source": [
    "# these are the libraries which has been used\n",
    "import ipywidgets as widgets\n",
    "import pandas as pd\n",
    "import matplotlib.pyplot as plt #will be used for plotting\n",
    "import os \n",
    "from IPython.display import display"
   ]
  },
  {
   "cell_type": "code",
   "execution_count": null,
   "metadata": {},
   "outputs": [],
   "source": [
    "#Function that creates the buttons.\n",
    "def display_buttons():\n",
    "    button_input = widgets.Button(description=\"Input Data\")  #These line of codes creates the buttons\n",
    "    button_attributes = widgets.Button(description=\"Choose Attributes\")\n",
    "    button_export = widgets.Button(description=\"Export to Excel\")\n",
    "    button_graphs_grazing = widgets.Button(description=\"Graph Grazing\")\n",
    "    button_graphs_cutting = widgets.Button(description=\"Graph Cutting\")\n",
    "    button_graphs_manure = widgets.Button(description=\"Graph Manure\")\n",
    "    #These lines display the buttons\n",
    "    display(button_input)\n",
    "    display(button_attributes)\n",
    "    display(button_export)\n",
    "    display(button_graphs_grazing)\n",
    "    display(button_graphs_cutting)\n",
    "    display(button_graphs_manure)\n",
    "    #display(button_graphs)\n",
    "\n",
    "    #These lines connects a click on the button with the execution of the function\n",
    "    button_input.on_click(input_data)\n",
    "    button_attributes.on_click(choose_attributes)\n",
    "    button_export.on_click(export_excel)\n",
    "    button_graphs_grazing.on_click(print_grazing)\n",
    "    button_graphs_cutting.on_click(print_cutting)\n",
    "    button_graphs_manure.on_click(print_manure)"
   ]
  },
  {
   "cell_type": "code",
   "execution_count": null,
   "metadata": {},
   "outputs": [],
   "source": [
    "#This functions export will export the fields in a combined format that can be handed it to the government officials. \n",
    "# Find the results in the folder \"Results\"\n",
    "\n",
    "ab = 1 #This might seem weird, and it is. To use the widget buttons the functions needed to have arguments for some reasons. \n",
    "#And by setting the argument to some random value it worked. \n",
    "def export_excel(ab): \n",
    "    pieces = dict(zip(list_farmnames_attributes, list_farms))\n",
    "    result = pd.concat(pieces)\n",
    "    writer = pd.ExcelWriter('Results/Farm_Data.xlsx', engine='xlsxwriter')\n",
    "    result.to_excel(writer, sheet_name='The Fields')\n",
    "    writer.save() "
   ]
  },
  {
   "cell_type": "code",
   "execution_count": null,
   "metadata": {},
   "outputs": [],
   "source": [
    "export_excel(ab)"
   ]
  },
  {
   "cell_type": "code",
   "execution_count": null,
   "metadata": {},
   "outputs": [],
   "source": [
    "choose_attributes(ab)"
   ]
  },
  {
   "cell_type": "code",
   "execution_count": null,
   "metadata": {
    "scrolled": true
   },
   "outputs": [],
   "source": [
    "input_data(ab)"
   ]
  },
  {
   "cell_type": "code",
   "execution_count": null,
   "metadata": {},
   "outputs": [],
   "source": [
    "#Input attributes of each field: size and type of grass. These attributes will be carried over to the Excel files.\n",
    "def choose_attributes(ab): \n",
    "    global big_list_attributes #it was easier to make it global than to use \"return\" at the end of the function\n",
    "    global list_farmnames_attributes \n",
    "    list_attributes = []\n",
    "    big_list_attributes = []\n",
    "    list_farmnames_attributes = []\n",
    "    for i in list_farmnames:\n",
    "        exec('{}_attributes = []'.format(i))\n",
    "\n",
    "#take user input for size of each field and append to attribute list\n",
    "    for i in list_farmnames:\n",
    "        sizeinput = (input(\"Please enter the size of {} in square meters: \".format(i)))\n",
    "        grassinput = (input(\"Please enter the tyep of grass in field {}. Enter either '1','2','3','4', or '5': \".format(i)))\n",
    "        exec('{}_attributes.append(sizeinput)'.format(i))\n",
    "        exec('{}_attributes.append(grassinput)'.format(i))\n",
    "        big_list_attributes.append(sizeinput)\n",
    "        big_list_attributes.append(grassinput)\n",
    "\n",
    "    for i in range(len(list_farms)):\n",
    "        for size in range(0,len(big_list_attributes),2):\n",
    "            for type in range(1,len(big_list_attributes),2):\n",
    "                aux = \"Field:\" + \" \" + list_farmnames[i] + \",\" + \" \" + \"Size sqm:\" + \" \" + big_list_attributes[size]+ \",\"+ \" \" + \"Type of grass:\" + \" \" + big_list_attributes[type] + \".\"\n",
    "        list_farmnames_attributes.append(aux) "
   ]
  },
  {
   "cell_type": "code",
   "execution_count": null,
   "metadata": {},
   "outputs": [],
   "source": [
    "#Input data function here\n",
    "#this function recieves input from the user and does it in a loop, so they can input as much as they want at anytime.\n",
    "def input_data(ab):\n",
    "    changecellinput = input(\"Do you wish to change a cell? Enter yes/no: \")\n",
    "    while changecellinput in ['yes', 'Yes', 'YES', 'yES', 'yeS']:\n",
    "        if changecellinput in ['no', 'No', 'NO', 'nO']:\n",
    "            print (\"Thank you, no cells will be changed\")\n",
    "        else:\n",
    "            inputframe = input(\"What field would you like to change a cell in? Enter the name: \")\n",
    "            inputdate = input(\"Enter the date you wish to change in the year-month-day format (ex: 2019-03-01): \")\n",
    "            inputaction = input(\"Enter the action corresponding to the cell you wish to change (ex: Grazing): \")\n",
    "            if inputaction in [\"Grazing\", \"Manure\", \"Cutting\"]:\n",
    "                try:\n",
    "                    inputchange = int(input(\"Enter what you wish to change the contents of the cell to: \"))\n",
    "                except ValueError:\n",
    "                    print(\"Please input an actual number\") \n",
    "                exec('{}.loc[inputdate,inputaction]=inputchange'.format(inputframe))\n",
    "            else:\n",
    "                print(\"Please enter an actual action\")\n",
    "                break\n",
    "        exec(\"display({})\".format(inputframe))\n",
    "        print (\"Thank you for entering data\")\n",
    "        continueinput = input(\"Do you wish to change another cell? Enter yes/no: \")\n",
    "        if continueinput in ['no', 'No', 'NO', 'nO']:\n",
    "            print (\"You are done editing cells\")\n",
    "            return\n",
    "    else:\n",
    "        print (\"You are done editing cells\")"
   ]
  },
  {
   "cell_type": "code",
   "execution_count": null,
   "metadata": {},
   "outputs": [],
   "source": [
    "### OLD PRINTING FUNCTIONS ###\n",
    "\n",
    "\n",
    "\n",
    "plt.style.use(\"ggplot\")\n",
    "\n",
    "def print_grazing(choice): \n",
    "    inputchoice = input(\"What field do you want to print grazing data for? \")\n",
    "    choice = choice.astype(float) #WE did not have numbers that was plotable, so make them to floats\n",
    "    fig = plt.figure() \n",
    "    choice[\"Grazing\"].plot(label = \"Grazing in {}\".format(choice.astype(str)), legend = False)\n",
    "    plt.ylabel('Number of Cows Grazing')\n",
    "    plt.rcParams['figure.figsize'] = [15,8] #size of the graphs\n",
    "    plt.title(\"Grazing in {}\".format(inputchoice)) #Main title \n",
    "\n",
    "def print_manure(choice): \n",
    "    inputchoice = input(\"What field do you want to print manure data for? \")\n",
    "    choice = choice.astype(float) #WE did not have numbers that was plotable, so make them to floats\n",
    "    fig = plt.figure() \n",
    "    choice[\"Manure\"].plot(label = \"Manure in {}\".format(choice.astype(str)), legend = False)\n",
    "    plt.ylabel('Kilos of Manure spread')\n",
    "    plt.rcParams['figure.figsize'] = [15,8] #size of the graphs\n",
    "    plt.title(\"Manure spread in {}\".format(inputchoice)) #Main title \n",
    "    \n",
    "def print_cutting(choice): \n",
    "    inputchoice = input(\"What field do you want to print cutting data for? \")\n",
    "    choice = choice.astype(float) #WE did not have numbers that was plotable, so make them to floats\n",
    "    fig = plt.figure() \n",
    "    choice[\"Cutting\"].plot(label = \"Manure in {}\".format(choice.astype(str)), legend = False)\n",
    "    plt.ylabel('Was the field cut on this day?')\n",
    "    plt.rcParams['figure.figsize'] = [15,8] #size of the graphs\n",
    "    plt.title(\"Cutting in Field {}\".format(inputchoice)) #Main title "
   ]
  },
  {
   "cell_type": "code",
   "execution_count": null,
   "metadata": {},
   "outputs": [],
   "source": [
    "# Graphs\n",
    "\n",
    "plt.style.use(\"ggplot\")\n",
    "\n",
    "def print_grazing(ab): \n",
    "    aux = dict(zip(list_farmnames, range(0,a)))\n",
    "    aux1 = str(input(\"Which field do you want to plot\"))\n",
    "    choice = list_farms[aux[aux1]] \n",
    "    fig = plt.figure() \n",
    "    choice[\"Grazing\"].plot(label = \"Grazing in {}\".format(choice.astype(str)), legend = False)\n",
    "    plt.ylabel('Number of Cows Grazing')\n",
    "    plt.rcParams['figure.figsize'] = [15,8] #size of the graphs\n",
    "    plt.title(\"Grazing in {}\".format(aux1)) #Main title\n",
    "\n",
    "def print_cutting(ab): \n",
    "    inputchoice = input(\"What field do you want to print cutting data for? \")\n",
    "    choice = choice.astype(float) #WE did not have numbers that was plotable, so make them to floats\n",
    "    fig = plt.figure() \n",
    "    choice[\"Cutting\"].plot(label = \"Manure in {}\".format(choice.astype(str)), legend = False)\n",
    "    plt.ylabel('Was the field cut on this day?')\n",
    "    plt.rcParams['figure.figsize'] = [15,8] #size of the graphs\n",
    "    plt.title(\"Cutting in Field {}\".format(aux1)) #Main title \n",
    "    \n",
    "    \n",
    "def print_manure(ab): \n",
    "    aux = dict(zip(list_farmnames, range(0,a)))\n",
    "    aux1 = str(input(\"Which field do you want to plot\"))\n",
    "    choice = list_farms[aux[aux1]] \n",
    "    fig = plt.figure() \n",
    "    choice[\"Manure\"].plot(label = \"Manure in {}\".format(choice.astype(str)), legend = False)\n",
    "    plt.ylabel('Kilos of Manure spread')\n",
    "    plt.rcParams['figure.figsize'] = [15,8] #size of the graphs\n",
    "    plt.title(\"Manure spread in {}\".format(aux1)) #Main title\n",
    "    \n",
    "    \n",
    "    "
   ]
  },
  {
   "cell_type": "code",
   "execution_count": null,
   "metadata": {},
   "outputs": [],
   "source": []
  },
  {
   "cell_type": "code",
   "execution_count": null,
   "metadata": {
    "scrolled": true
   },
   "outputs": [],
   "source": [
    "## Experiment\n",
    "\n",
    "aux = dict(zip(list_farmnames, range(0,a)))\n",
    "aux1 = str(input(\"Which field do you want to plot\"))\n",
    "choice = list_farms[aux[aux1]] \n",
    "#choice = choice.astype(float)\n",
    "choice[\"Manure\"]"
   ]
  },
  {
   "cell_type": "code",
   "execution_count": null,
   "metadata": {},
   "outputs": [],
   "source": []
  },
  {
   "cell_type": "code",
   "execution_count": null,
   "metadata": {},
   "outputs": [],
   "source": [
    "#Experiment\n",
    "\n",
    "aux = dict(zip(list_farmnames, range(0,a)))\n",
    "aux1 = str(input(\"Which field do you want to plot\"))\n",
    "list_farms[aux[aux1]] = list_farms[aux[aux1]].astype(float) #WE did not have numbers that was plotable, so make them to floats\n",
    "fig = plt.figure() \n",
    "choice[\"Manure\"].plot(label = \"Manure in {}\".format(choice.astype(str)), legend = False)\n",
    "plt.ylabel('Kilos of Manure spread')\n",
    "plt.rcParams['figure.figsize'] = [15,8] #size of the graphs\n",
    "plt.title(\"Manure spread in {}\".format(aux1)) #Main title\n",
    "\n",
    "\n",
    "\n"
   ]
  },
  {
   "cell_type": "code",
   "execution_count": null,
   "metadata": {},
   "outputs": [],
   "source": [
    "print_manure(list_farms[0])\n",
    "\n",
    "input(\"Which field do you want to \") "
   ]
  },
  {
   "cell_type": "code",
   "execution_count": null,
   "metadata": {},
   "outputs": [],
   "source": [
    "test = dict(zip(list_farmnames, range(0,a)))"
   ]
  },
  {
   "cell_type": "code",
   "execution_count": null,
   "metadata": {},
   "outputs": [],
   "source": [
    "test1 = str(input(\"hey which field?\"))"
   ]
  },
  {
   "cell_type": "code",
   "execution_count": null,
   "metadata": {},
   "outputs": [],
   "source": [
    "test[test1]"
   ]
  },
  {
   "cell_type": "code",
   "execution_count": null,
   "metadata": {},
   "outputs": [],
   "source": [
    "choice = list_farmnames_numbers[0]\n",
    "print_manure(choice)"
   ]
  },
  {
   "cell_type": "code",
   "execution_count": null,
   "metadata": {},
   "outputs": [],
   "source": []
  },
  {
   "cell_type": "code",
   "execution_count": null,
   "metadata": {},
   "outputs": [],
   "source": []
  }
 ],
 "metadata": {
  "kernelspec": {
   "display_name": "Python 3",
   "language": "python",
   "name": "python3"
  },
  "language_info": {
   "codemirror_mode": {
    "name": "ipython",
    "version": 3
   },
   "file_extension": ".py",
   "mimetype": "text/x-python",
   "name": "python",
   "nbconvert_exporter": "python",
   "pygments_lexer": "ipython3",
   "version": "3.6.5"
  }
 },
 "nbformat": 4,
 "nbformat_minor": 2
}
